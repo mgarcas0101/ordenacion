{
 "cells": [
  {
   "cell_type": "code",
   "execution_count": 1,
   "metadata": {},
   "outputs": [
    {
     "name": "stdout",
     "output_type": "stream",
     "text": [
      "pygame 2.6.1 (SDL 2.28.4, Python 3.11.4)\n",
      "Hello from the pygame community. https://www.pygame.org/contribute.html\n"
     ]
    }
   ],
   "source": [
    "import pygame\n",
    "import pygame_widgets\n",
    "\n"
   ]
  },
  {
   "cell_type": "code",
   "execution_count": 2,
   "metadata": {},
   "outputs": [],
   "source": [
    "n =[]\n",
    "contador = 0 \n",
    "\n",
    "# funcion reutilizables\n",
    "def swap(i):\n",
    "    global n \n",
    "    a= n[i]\n",
    "    n[i] = n[i+i]\n",
    "    n[i+i] = a\n",
    "\n",
    "def agregarNumero():\n",
    "    global n\n",
    "    n.append(int(tNumero.getText()))\n",
    "    tResultado.setText(n)\n",
    "\n",
    "def ordenar():\n",
    "    parar = 0 \n",
    "    global contador\n",
    "    global n \n",
    "    for i in range (len(n)-1):\n",
    "        parar = 1 \n",
    "        for j in range (len(n)-1):\n",
    "            if n[j]>n[j+1]:\n",
    "                swap(j)\n",
    "                contador +=1\n",
    "                parar = 0 \n",
    "        if parar == 1:\n",
    "            break\n",
    "    tResultado.setText(n)\n"
   ]
  },
  {
   "cell_type": "code",
   "execution_count": 3,
   "metadata": {},
   "outputs": [
    {
     "ename": "AttributeError",
     "evalue": "'list' object has no attribute 'replace'",
     "output_type": "error",
     "traceback": [
      "\u001b[0;31m---------------------------------------------------------------------------\u001b[0m",
      "\u001b[0;31mAttributeError\u001b[0m                            Traceback (most recent call last)",
      "Cell \u001b[0;32mIn[3], line 38\u001b[0m\n\u001b[1;32m     35\u001b[0m     \u001b[39mbreak\u001b[39;00m\n\u001b[1;32m     36\u001b[0m win\u001b[39m.\u001b[39mfill((\u001b[39m255\u001b[39m, \u001b[39m255\u001b[39m, \u001b[39m255\u001b[39m))\n\u001b[0;32m---> 38\u001b[0m pygame_widgets\u001b[39m.\u001b[39mupdate(events)  \n\u001b[1;32m     39\u001b[0m pygame\u001b[39m.\u001b[39mdisplay\u001b[39m.\u001b[39mupdate()\n",
      "File \u001b[0;32m~/anaconda3/lib/python3.11/site-packages/pygame_widgets/__init__.py:9\u001b[0m, in \u001b[0;36mupdate\u001b[0;34m(events)\u001b[0m\n\u001b[1;32m      7\u001b[0m \u001b[39mdef\u001b[39;00m \u001b[39mupdate\u001b[39m(events: [Event]):\n\u001b[1;32m      8\u001b[0m     Mouse\u001b[39m.\u001b[39mupdateMouseState()\n\u001b[0;32m----> 9\u001b[0m     WidgetHandler\u001b[39m.\u001b[39mmain(events)\n",
      "File \u001b[0;32m~/anaconda3/lib/python3.11/site-packages/pygame_widgets/widget.py:219\u001b[0m, in \u001b[0;36mWidgetHandler.main\u001b[0;34m(events)\u001b[0m\n\u001b[1;32m    217\u001b[0m \u001b[39mfor\u001b[39;00m widget \u001b[39min\u001b[39;00m widgets[::\u001b[39m-\u001b[39m\u001b[39m1\u001b[39m]:\n\u001b[1;32m    218\u001b[0m     \u001b[39mif\u001b[39;00m \u001b[39mnot\u001b[39;00m blocked \u001b[39mor\u001b[39;00m \u001b[39mnot\u001b[39;00m widget\u001b[39m.\u001b[39mcontains(\u001b[39m*\u001b[39mMouse\u001b[39m.\u001b[39mgetMousePos()):\n\u001b[0;32m--> 219\u001b[0m         widget\u001b[39m.\u001b[39mlisten(events)\n\u001b[1;32m    221\u001b[0m     \u001b[39m# Ensure widgets covered by others are not affected (widgets created later)\u001b[39;00m\n\u001b[1;32m    222\u001b[0m     \u001b[39mif\u001b[39;00m widget\u001b[39m.\u001b[39mcontains(\u001b[39m*\u001b[39mMouse\u001b[39m.\u001b[39mgetMousePos()):  \u001b[39m# TODO: Unless 'transparent'\u001b[39;00m\n",
      "File \u001b[0;32m~/anaconda3/lib/python3.11/site-packages/pygame_widgets/button.py:118\u001b[0m, in \u001b[0;36mButton.listen\u001b[0;34m(self, events)\u001b[0m\n\u001b[1;32m    116\u001b[0m \u001b[39melif\u001b[39;00m mouseState \u001b[39m==\u001b[39m MouseState\u001b[39m.\u001b[39mCLICK:\n\u001b[1;32m    117\u001b[0m     \u001b[39mself\u001b[39m\u001b[39m.\u001b[39mclicked \u001b[39m=\u001b[39m \u001b[39mTrue\u001b[39;00m\n\u001b[0;32m--> 118\u001b[0m     \u001b[39mself\u001b[39m\u001b[39m.\u001b[39monClick(\u001b[39m*\u001b[39m\u001b[39mself\u001b[39m\u001b[39m.\u001b[39monClickParams)\n\u001b[1;32m    119\u001b[0m     \u001b[39mself\u001b[39m\u001b[39m.\u001b[39mcolour \u001b[39m=\u001b[39m \u001b[39mself\u001b[39m\u001b[39m.\u001b[39mpressedColour\n\u001b[1;32m    120\u001b[0m     \u001b[39mself\u001b[39m\u001b[39m.\u001b[39mborderColour \u001b[39m=\u001b[39m \u001b[39mself\u001b[39m\u001b[39m.\u001b[39mpressedBorderColour\n",
      "Cell \u001b[0;32mIn[3], line 12\u001b[0m, in \u001b[0;36m<lambda>\u001b[0;34m()\u001b[0m\n\u001b[1;32m      5\u001b[0m win \u001b[39m=\u001b[39m pygame\u001b[39m.\u001b[39mdisplay\u001b[39m.\u001b[39mset_mode((\u001b[39m600\u001b[39m,\u001b[39m600\u001b[39m))\n\u001b[1;32m      6\u001b[0m \u001b[39m# Creates the button with optional parameters\u001b[39;00m\n\u001b[1;32m      7\u001b[0m button \u001b[39m=\u001b[39m Button(\n\u001b[1;32m      8\u001b[0m     win, \u001b[39m100\u001b[39m, \u001b[39m100\u001b[39m, \u001b[39m300\u001b[39m, \u001b[39m100\u001b[39m,\n\u001b[1;32m      9\u001b[0m     \u001b[39m# Optional Parameters\u001b[39;00m\n\u001b[1;32m     10\u001b[0m     text\u001b[39m=\u001b[39m\u001b[39m'\u001b[39m\u001b[39magregar\u001b[39m\u001b[39m'\u001b[39m, fontSize\u001b[39m=\u001b[39m\u001b[39m50\u001b[39m, margin\u001b[39m=\u001b[39m\u001b[39m20\u001b[39m, inactiveColour\u001b[39m=\u001b[39m(\u001b[39m200\u001b[39m, \u001b[39m50\u001b[39m, \u001b[39m0\u001b[39m),\n\u001b[1;32m     11\u001b[0m     hoverColour\u001b[39m=\u001b[39m(\u001b[39m150\u001b[39m, \u001b[39m0\u001b[39m, \u001b[39m0\u001b[39m), pressedColour\u001b[39m=\u001b[39m(\u001b[39m0\u001b[39m, \u001b[39m200\u001b[39m, \u001b[39m20\u001b[39m), radius\u001b[39m=\u001b[39m\u001b[39m20\u001b[39m,\n\u001b[0;32m---> 12\u001b[0m     onClick\u001b[39m=\u001b[39m\u001b[39mlambda\u001b[39;00m: agregarNumero()  \u001b[39m# Funcion to call when clicked on\u001b[39;00m\n\u001b[1;32m     13\u001b[0m     )\n\u001b[1;32m     15\u001b[0m button2 \u001b[39m=\u001b[39m Button(\n\u001b[1;32m     16\u001b[0m     win, \u001b[39m100\u001b[39m, \u001b[39m210\u001b[39m, \u001b[39m300\u001b[39m, \u001b[39m100\u001b[39m,\n\u001b[1;32m     17\u001b[0m     \u001b[39m# Optional Parameters\u001b[39;00m\n\u001b[0;32m   (...)\u001b[0m\n\u001b[1;32m     20\u001b[0m     onClick\u001b[39m=\u001b[39m\u001b[39mlambda\u001b[39;00m: ordenar()  \u001b[39m# Funcion to call when clicked on\u001b[39;00m\n\u001b[1;32m     21\u001b[0m )\n\u001b[1;32m     22\u001b[0m tNumero \u001b[39m=\u001b[39m TextBox(win, \u001b[39m100\u001b[39m, \u001b[39m10\u001b[39m, \u001b[39m300\u001b[39m, \u001b[39m70\u001b[39m, frontSize\u001b[39m=\u001b[39m\u001b[39m40\u001b[39m)\n",
      "Cell \u001b[0;32mIn[2], line 14\u001b[0m, in \u001b[0;36magregarNumero\u001b[0;34m()\u001b[0m\n\u001b[1;32m     12\u001b[0m \u001b[39mglobal\u001b[39;00m n\n\u001b[1;32m     13\u001b[0m n\u001b[39m.\u001b[39mappend(\u001b[39mint\u001b[39m(tNumero\u001b[39m.\u001b[39mgetText()))\n\u001b[0;32m---> 14\u001b[0m tResultado\u001b[39m.\u001b[39msetText(n)\n",
      "File \u001b[0;32m~/anaconda3/lib/python3.11/site-packages/pygame_widgets/textbox.py:732\u001b[0m, in \u001b[0;36mTextBox.setText\u001b[0;34m(self, text)\u001b[0m\n\u001b[1;32m    730\u001b[0m \u001b[39mself\u001b[39m\u001b[39m.\u001b[39mselectedLine \u001b[39m=\u001b[39m \u001b[39m0\u001b[39m\n\u001b[1;32m    731\u001b[0m \u001b[39mself\u001b[39m\u001b[39m.\u001b[39mcursorPosition \u001b[39m=\u001b[39m \u001b[39m0\u001b[39m\n\u001b[0;32m--> 732\u001b[0m \u001b[39mself\u001b[39m\u001b[39m.\u001b[39maddText(text)\n",
      "File \u001b[0;32m~/anaconda3/lib/python3.11/site-packages/pygame_widgets/textbox.py:639\u001b[0m, in \u001b[0;36mTextBox.addText\u001b[0;34m(self, text)\u001b[0m\n\u001b[1;32m    627\u001b[0m \u001b[39mdef\u001b[39;00m \u001b[39maddText\u001b[39m(\u001b[39mself\u001b[39m, text: \u001b[39mstr\u001b[39m) \u001b[39m-\u001b[39m\u001b[39m>\u001b[39m \u001b[39mNone\u001b[39;00m:\n\u001b[1;32m    628\u001b[0m \u001b[39m    \u001b[39m\u001b[39m\"\"\"\u001b[39;00m\n\u001b[1;32m    629\u001b[0m \u001b[39m    Add text to the text box\u001b[39;00m\n\u001b[1;32m    630\u001b[0m \n\u001b[0;32m   (...)\u001b[0m\n\u001b[1;32m    637\u001b[0m \u001b[39m        text (str): The text to add to the text box\u001b[39;00m\n\u001b[1;32m    638\u001b[0m \u001b[39m    \"\"\"\u001b[39;00m\n\u001b[0;32m--> 639\u001b[0m     text \u001b[39m=\u001b[39m \u001b[39mlist\u001b[39m(text\u001b[39m.\u001b[39mreplace(\u001b[39m'\u001b[39m\u001b[39m\\t\u001b[39;00m\u001b[39m'\u001b[39m, \u001b[39m'\u001b[39m\u001b[39m \u001b[39m\u001b[39m'\u001b[39m \u001b[39m*\u001b[39m \u001b[39mself\u001b[39m\u001b[39m.\u001b[39mtabSpaces))\n\u001b[1;32m    641\u001b[0m     \u001b[39mfor\u001b[39;00m char \u001b[39min\u001b[39;00m text:\n\u001b[1;32m    642\u001b[0m         \u001b[39mif\u001b[39;00m \u001b[39mnot\u001b[39;00m char \u001b[39mor\u001b[39;00m \u001b[39mself\u001b[39m\u001b[39m.\u001b[39misSpecialChar(char) \u001b[39mand\u001b[39;00m char \u001b[39m!=\u001b[39m \u001b[39m'\u001b[39m\u001b[39m\\n\u001b[39;00m\u001b[39m'\u001b[39m:\n",
      "\u001b[0;31mAttributeError\u001b[0m: 'list' object has no attribute 'replace'"
     ]
    },
    {
     "ename": "",
     "evalue": "",
     "output_type": "error",
     "traceback": [
      "\u001b[1;31mEl Kernel se bloqueó al ejecutar código en la celda actual o en una celda anterior. Revise el código de las celdas para identificar una posible causa del error. Haga clic <a href='https://aka.ms/vscodeJupyterKernelCrash'>aquí</a> para obtener más información. Vea el [registro] de Jupyter (command:jupyter.viewOutput) para obtener más detalles."
     ]
    }
   ],
   "source": [
    "from pygame_widgets.button import Button\n",
    "from pygame_widgets.textbox import TextBox\n",
    "# Set up Pygame\n",
    "pygame.init()\n",
    "win = pygame.display.set_mode((600,600))\n",
    "# Creates the button with optional parameters\n",
    "button = Button(\n",
    "    win, 100, 100, 300, 100,\n",
    "    text='agregar', fontSize=50, margin=20,\n",
    "    onClick=lambda: agregarNumero()  # Funcion to call when clicked on\n",
    "    )\n",
    "\n",
    "button2 = Button(\n",
    "    win, 100, 210, 300, 100,\n",
    "    text='ordenar', fontSize=50, margin=20,\n",
    "    onClick=lambda: ordenar()  # Funcion to call when clicked on\n",
    ")\n",
    "tNumero = TextBox(win, 100, 10, 300, 70, frontSize=40)\n",
    "tResultado = TextBox(win, 100, 320, 300, 70, frontSize=40)\n",
    "tResultado.disable()\n",
    "run = True\n",
    "while run:\n",
    "    events = pygame.event.get()\n",
    "    for event in events:\n",
    "        if event.type == pygame.QUIT:\n",
    "                pygame.quit()\n",
    "                run = False\n",
    "                break\n",
    "            \n",
    "    if run==False:\n",
    "        break\n",
    "    win.fill((255, 255, 255))\n",
    "\n",
    "    pygame_widgets.update(events)  \n",
    "    pygame.display.update()\n"
   ]
  }
 ],
 "metadata": {
  "kernelspec": {
   "display_name": "Python 3.11.4 ('base')",
   "language": "python",
   "name": "python3"
  },
  "language_info": {
   "codemirror_mode": {
    "name": "ipython",
    "version": 3
   },
   "file_extension": ".py",
   "mimetype": "text/x-python",
   "name": "python",
   "nbconvert_exporter": "python",
   "pygments_lexer": "ipython3",
   "version": "3.11.4"
  },
  "orig_nbformat": 4,
  "vscode": {
   "interpreter": {
    "hash": "066fb821b0c00a75d95db9a81c5427bcc4070e61c465f22f9a8faec3a2834c20"
   }
  }
 },
 "nbformat": 4,
 "nbformat_minor": 2
}
